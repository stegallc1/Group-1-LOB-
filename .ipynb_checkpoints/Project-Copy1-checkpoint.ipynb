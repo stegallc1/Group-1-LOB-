{
 "cells": [
  {
   "cell_type": "code",
   "execution_count": null,
   "metadata": {},
   "outputs": [],
   "source": [
    "# Dependencies\n",
    "import csv\n",
    "import os\n",
    "import pandas as pd\n",
    "import matplotlib.pyplot as plt\n",
    "import scipy.stats as st\n",
    "import numpy as np"
   ]
  },
  {
   "cell_type": "code",
   "execution_count": null,
   "metadata": {},
   "outputs": [],
   "source": [
    "# File to Load\n",
    "month_home_cost = \"C:\\\\Users\\\\CodyS\\\\Desktop\\\\Group-1-LOB-\\\\Average Median Monthly Housing Cost Cleaned Up test.csv\"\n",
    "month_caro_income = \"C:\\\\Users\\\\CodyS\\\\Desktop\\\\Group-1-LOB-\\\\Median NC and SC Monthly Income Cleaned Up.csv\"\n",
    "prop_value = \"C:\\\\Users\\\\CodyS\\\\Desktop\\\\Group-1-LOB-\\\\Median Property Value by County Cleaned Up.csv\" \n",
    "sale_price = \"C:\\\\Users\\\\CodyS\\\\Desktop\\\\Group-1-LOB-\\\\Median Sales Price CSV Cleaned up AVG Per Year.csv\" \n",
    "sale_inv = \"C:\\\\Users\\\\CodyS\\\\Desktop\\\\Group-1-LOB-\\\\Sales Inventory Cleaned Up AVG per Year.csv\" \n",
    "year_income = \"C:\\\\Users\\\\CodyS\\\\Desktop\\\\Group-1-LOB-\\\\US County Median Yearly Income Cleaned Up.csv\"\n",
    "county_pop = \"C:\\\\Users\\\\CodyS\\\\Desktop\\\\Group-1-LOB-\\\\US County Population Cleaned Up.csv\" \n",
    "file_to_output = os.path.join(\"Combined\", \"all_years.csv\")\n"
   ]
  },
  {
   "cell_type": "code",
   "execution_count": null,
   "metadata": {},
   "outputs": [],
   "source": [
    "# Read Purchasing and store into Pandas data frame\n",
    "month_home_cost_data = pd.read_csv(month_home_cost)\n",
    "month_caro_income_data = pd.read_csv(month_caro_income)\n",
    "prop_value_data = pd.read_csv(prop_value, encoding = \"ISO-8859-1\")\n",
    "sale_price_data = pd.read_csv(sale_price)\n",
    "sale_inv_data = pd.read_csv(sale_inv)\n",
    "year_income_data = pd.read_csv(year_income, encoding = \"ISO-8859-1\")\n",
    "county_pop_data = pd.read_csv(county_pop, encoding = \"ISO-8859-1\")"
   ]
  },
  {
   "cell_type": "code",
   "execution_count": null,
   "metadata": {},
   "outputs": [],
   "source": [
    "# Collecting a list of all columns within the DataFrame\n",
    "county_pop_data.columns"
   ]
  },
  {
   "cell_type": "code",
   "execution_count": null,
   "metadata": {},
   "outputs": [],
   "source": [
    "# Remove unecessary columns from the DataFrame and save the new DataFrame\n",
    "trim_month_home_cost = month_home_cost_data[['County','2013', '2014', '2015', '2016', '2017', '2018']]\n",
    "trim_month_caro_inc = month_caro_income_data[['County','2013', '2014', '2015', '2016', '2017', '2018']]\n",
    "trim_prop_value = prop_value_data[['County','2013', '2014', '2015', '2016', '2017', '2018']]\n",
    "trim_sale_price = sale_price_data[['County','2013', '2014', '2015', '2016', '2017', '2018']]\n",
    "trim_sale_inv = sale_inv_data[['County','2013', '2014', '2015', '2016', '2017', '2018']]\n",
    "trim_year_inc = year_income_data[['County','2013', '2014', '2015', '2016', '2017', '2018']]\n",
    "trim_county_pop = county_pop_data[['County','2013', '2014', '2015', '2016', '2017', '2018']]"
   ]
  },
  {
   "cell_type": "code",
   "execution_count": null,
   "metadata": {},
   "outputs": [],
   "source": [
    "trim_month_home_cost.set_index(\"County\")\n",
    "trim_month_caro_inc.set_index(\"County\")\n",
    "trim_prop_value.set_index(\"County\")\n",
    "trim_sale_price.set_index(\"County\")\n",
    "trim_sale_inv.set_index(\"County\")\n",
    "trim_year_inc.set_index(\"County\")\n",
    "trim_county_pop.set_index(\"County\")"
   ]
  },
  {
   "cell_type": "code",
   "execution_count": null,
   "metadata": {},
   "outputs": [],
   "source": [
    "#Trim Counties\n",
    "clt_month_home_cost= trim_month_home_cost.loc[(trim_month_home_cost[\"County\"] == \"York County\") | \n",
    "\t(trim_month_home_cost[\"County\"] == \"Lancaster County\") |\n",
    "\t(trim_month_home_cost[\"County\"] == \"Union County\") |\n",
    "\t(trim_month_home_cost[\"County\"] == \"Mecklenburg County\") |\n",
    "\t(trim_month_home_cost[\"County\"] == \"Gaston County\") |\n",
    "\t(trim_month_home_cost[\"County\"] == \"Licoln County\") |\n",
    "\t(trim_month_home_cost[\"County\"] == \"Irdell County\") |\n",
    "\t(trim_month_home_cost[\"County\"] == \"Cabarrus County\"), :]\n",
    "\n",
    "clt_month_inc= trim_month_caro_inc.loc[(trim_month_caro_inc[\"County\"] == \"York County\") | \n",
    "\t(trim_month_caro_inc[\"County\"] == \"Lancaster County\") |\n",
    "\t(trim_month_caro_inc[\"County\"] == \"Union County\") |\n",
    "\t(trim_month_caro_inc[\"County\"] == \"Mecklenburg County\") |\n",
    "\t(trim_month_caro_inc[\"County\"] == \"Gaston County\") |\n",
    "\t(trim_month_caro_inc[\"County\"] == \"Licoln County\") |\n",
    "\t(trim_month_caro_inc[\"County\"] == \"Irdell County\") |\n",
    "\t(trim_month_caro_inc[\"County\"] == \"Cabarrus County\"), :]\n",
    "\n",
    "clt_prop_value= trim_prop_value.loc[(trim_prop_value[\"County\"] == \"York County\") | \n",
    "\t(trim_prop_value[\"County\"] == \"Lancaster County\") |\n",
    "\t(trim_prop_value[\"County\"] == \"Union County\") |\n",
    "\t(trim_prop_value[\"County\"] == \"Mecklenburg County\") |\n",
    "\t(trim_prop_value[\"County\"] == \"Gaston County\") |\n",
    "\t(trim_prop_value[\"County\"] == \"Licoln County\") |\n",
    "\t(trim_prop_value[\"County\"] == \"Irdell County\") |\n",
    "\t(trim_prop_value[\"County\"] == \"Cabarrus County\"), :]\n",
    "\n",
    "clt_sale_inv= trim_sale_inv.loc[(trim_sale_inv[\"County\"] == \"York County\") | \n",
    "\t(trim_sale_inv[\"County\"] == \"Lancaster County\") |\n",
    "\t(trim_sale_inv[\"County\"] == \"Union County\") |\n",
    "\t(trim_sale_inv[\"County\"] == \"Mecklenburg County\") |\n",
    "\t(trim_sale_inv[\"County\"] == \"Gaston County\") |\n",
    "\t(trim_sale_inv[\"County\"] == \"Licoln County\") |\n",
    "\t(trim_sale_inv[\"County\"] == \"Irdell County\") |\n",
    "\t(trim_sale_inv[\"County\"] == \"Cabarrus County\"), :]\n",
    "\n",
    "clt_year_inc= trim_year_inc.loc[(trim_year_inc[\"County\"] == \"York County\") | \n",
    "\t(trim_year_inc[\"County\"] == \"Lancaster County\") |\n",
    "\t(trim_year_inc[\"County\"] == \"Union County\") |\n",
    "\t(trim_year_inc[\"County\"] == \"Mecklenburg County\") |\n",
    "\t(trim_year_inc[\"County\"] == \"Gaston County\") |\n",
    "\t(trim_year_inc[\"County\"] == \"Licoln County\") |\n",
    "\t(trim_year_inc[\"County\"] == \"Irdell County\") |\n",
    "\t(trim_year_inc[\"County\"] == \"Cabarrus County\"), :]\n",
    "\n",
    "clt_county_pop= trim_county_pop.loc[(trim_county_pop[\"County\"] == \"York County\") | \n",
    "\t(trim_county_pop[\"County\"] == \"Lancaster County\") |\n",
    "\t(trim_county_pop[\"County\"] == \"Union County\") |\n",
    "\t(trim_county_pop[\"County\"] == \"Mecklenburg County\") |\n",
    "\t(trim_county_pop[\"County\"] == \"Gaston County\") |\n",
    "\t(trim_county_pop[\"County\"] == \"Licoln County\") |\n",
    "\t(trim_county_pop[\"County\"] == \"Irdell County\") |\n",
    "\t(trim_county_pop[\"County\"] == \"Cabarrus County\"), :]\n",
    "\n",
    "clt_sale_price= trim_sale_price.loc[(trim_sale_price[\"County\"] == \"York County\") | \n",
    "\t(trim_sale_price[\"County\"] == \"Lancaster County\") |\n",
    "\t(trim_sale_price[\"County\"] == \"Union County\") |\n",
    "\t(trim_sale_price[\"County\"] == \"Mecklenburg County\") |\n",
    "\t(trim_sale_price[\"County\"] == \"Gaston County\") |\n",
    "\t(trim_sale_price[\"County\"] == \"Licoln County\") |\n",
    "\t(trim_sale_price[\"County\"] == \"Irdell County\") |\n",
    "\t(trim_sale_price[\"County\"] == \"Cabarrus County\"), :]\n"
   ]
  },
  {
   "cell_type": "code",
   "execution_count": null,
   "metadata": {},
   "outputs": [],
   "source": [
    "#Prep for merge by adding column of data drescription\n",
    "clt_month_home_cost.insert(7, \"Data\", \"Med Monthly Home Cost\")\n",
    "clt_month_inc.insert(7, \"Data\", \"Med Monthly Income\")\n",
    "clt_prop_value.insert(7, \"Data\", \"Med Prop Value\")\n",
    "clt_sale_price.insert(7,\"Data\", \"Med Sale Price\")\n",
    "clt_sale_inv.insert(7,\"Data\", \"Avg On Market Homes\")\n",
    "clt_year_inc.insert(7,\"Data\", \"Med Annual Income\")\n",
    "clt_county_pop.insert(7,\"Data\", \"Med County Pop\")"
   ]
  },
  {
   "cell_type": "code",
   "execution_count": null,
   "metadata": {},
   "outputs": [],
   "source": [
    "clt_month_home_cost.set_index(\"Data\")\n",
    "clt_month_home_cost"
   ]
  },
  {
   "cell_type": "code",
   "execution_count": null,
   "metadata": {},
   "outputs": [],
   "source": [
    "clt_month_inc.set_index(\"Data\")"
   ]
  },
  {
   "cell_type": "code",
   "execution_count": null,
   "metadata": {},
   "outputs": [],
   "source": [
    "clt_prop_value.set_index(\"Data\")"
   ]
  },
  {
   "cell_type": "code",
   "execution_count": null,
   "metadata": {},
   "outputs": [],
   "source": [
    "clt_sale_price.set_index(\"Data\")"
   ]
  },
  {
   "cell_type": "code",
   "execution_count": null,
   "metadata": {},
   "outputs": [],
   "source": [
    "clt_sale_inv.set_index(\"Data\")"
   ]
  },
  {
   "cell_type": "code",
   "execution_count": null,
   "metadata": {},
   "outputs": [],
   "source": [
    "clt_year_inc.set_index(\"Data\")"
   ]
  },
  {
   "cell_type": "code",
   "execution_count": null,
   "metadata": {},
   "outputs": [],
   "source": [
    "clt_county_pop.set_index(\"Data\")"
   ]
  },
  {
   "cell_type": "code",
   "execution_count": null,
   "metadata": {},
   "outputs": [],
   "source": [
    "#Append all DF\n",
    "clt_data = clt_month_home_cost.append([clt_month_inc, clt_prop_value, clt_sale_price, clt_sale_inv, clt_year_inc, clt_county_pop])\n",
    "# get a list of columns\n",
    "cols = list(clt_data)\n",
    "# move the column to head of list using index, pop and insert\n",
    "cols.insert(0, cols.pop(cols.index('Data')))\n",
    "cols"
   ]
  },
  {
   "cell_type": "code",
   "execution_count": null,
   "metadata": {},
   "outputs": [],
   "source": [
    "# use ix to reorder\n",
    "clt_data = clt_data.loc[:, cols]\n",
    "clt_data"
   ]
  },
  {
   "cell_type": "code",
   "execution_count": null,
   "metadata": {},
   "outputs": [],
   "source": [
    "#Found that we need to compare to bbroader group - Prep unfiltered data for merge by adding column of data drescription\n",
    "trim_month_home_cost.insert(7, \"Data\", \"Med Monthly Home Cost\")\n",
    "trim_month_caro_inc.insert(7, \"Data\", \"Med Monthly Income\")\n",
    "trim_prop_value.insert(7, \"Data\", \"Med Prop Value\")\n",
    "trim_sale_price.insert(7,\"Data\", \"Med Sale Price\")\n",
    "trim_sale_inv.insert(7,\"Data\", \"Avg On Market Homes\")\n",
    "trim_year_inc.insert(7,\"Data\", \"Med Annual Income\")\n",
    "trim_county_pop.insert(7,\"Data\", \"Med County Pop\")\n",
    "\n",
    "#Append all DF\n",
    "unfilter_data = trim_month_home_cost.append([trim_month_caro_inc, trim_prop_value, trim_sale_price, trim_sale_inv, trim_year_inc, trim_county_pop])\n",
    "# get a list of columns\n",
    "cols = list(clt_data)\n",
    "# move the column to head of list using index, pop and insert\n",
    "cols.insert(0, cols.pop(cols.index('Data')))\n",
    "unfilter_data"
   ]
  },
  {
   "cell_type": "code",
   "execution_count": null,
   "metadata": {},
   "outputs": [],
   "source": []
  },
  {
   "cell_type": "code",
   "execution_count": null,
   "metadata": {},
   "outputs": [],
   "source": []
  }
 ],
 "metadata": {
  "kernelspec": {
   "display_name": "Python 3",
   "language": "python",
   "name": "python3"
  },
  "language_info": {
   "codemirror_mode": {
    "name": "ipython",
    "version": 3
   },
   "file_extension": ".py",
   "mimetype": "text/x-python",
   "name": "python",
   "nbconvert_exporter": "python",
   "pygments_lexer": "ipython3",
   "version": "3.7.4"
  }
 },
 "nbformat": 4,
 "nbformat_minor": 2
}
